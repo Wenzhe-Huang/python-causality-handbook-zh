{
 "cells": [
  {
   "cell_type": "markdown",
   "id": "2ec19fe2-2fa0-497c-9126-9ae9e6425395",
   "metadata": {},
   "source": [
    "# 因果推断：献给求真敢为者\n",
    "\n",
    "![brave-and-true](images/brave-and-true.png)\n",
    "\n",
    "## 前言\n",
    "> 原书名：[Causal Inference for The Brave and True](https://github.com/matheusfacure/python-causality-handbook)  \n",
    "> 原作者：Matheus Facure  \n",
    "> 译 者：黄文喆  \n",
    "> 版权所有 © 2020 Matheus Facure  \n",
    "> 本中文翻译仅用于学习与非商业用途，如需商业使用请联系原作者。  \n",
    "> 本章节及后续内容为原作者撰写，由译者翻译整理。  \n",
    "\n",
    "---\n",
    "\n",
    "这是一本用轻松诙谐但又不失严谨的方式学习效应估计与敏感性分析的书。全程使用 Python，并尽可能加入了我找到的各种梗图。\n",
    "\n",
    "本书第一部分涵盖了因果推断的核心概念与模型。您将学习如何用潜在结果符号表示因果问题，了解因果图、偏差及其应对方法。这部分内容大多已得到广泛认可，是我从书籍、大学课程及在线教育资源中提炼整合而成。可将第一部分视作您探索因果问题的坚实安全基础。\n",
    "\n",
    "第二部分（进行中）聚焦因果推断在（主要是科技）行业中的现代发展与应用。第一部分主要关注平均处理效应的识别，而第二部分则转向个性化及使用 CATE 模型进行异质性效应估计。这部分内容多源于个人经验，远非成熟科学理论，更具实验性且可能随时调整——毕竟，我也仍在学习过程中。\n",
    "\n",
    "## 致谢\n",
    "我愿将这一系列作品视为对 Joshua Angrist、Alberto Abadie 和 Christopher Walters 杰出计量经济学课程的致敬。第一部分的大部分思想源自他们在美国经济学会授课的内容。在艰难的 2020 年，正是观看他们的课程视频让我保持了理智。\n",
    "\n",
    " - [Cross-Section Econometrics](https://www.aeaweb.org/conference/cont-ed/2017-webcasts)\n",
    " - [Mastering Mostly Harmless Econometrics](https://www.aeaweb.org/conference/cont-ed/2020-webcasts)\n",
    "\n",
    " 我还想引用 Angrist 的精彩著作。它们向我展示了计量经济学（他们称之为“Metrics”）不仅极为实用，而且充满乐趣。\n",
    " - [Mostly Harmless Econometrics](https://www.mostlyharmlesseconometrics.com)\n",
    " - [Mastering ‘Metrics](https://www.masteringmetrics.com)\n",
    "\n",
    "最后还要感谢 Miguel Hernán 和 Jamie Robins 的[《Causal Inference》](https://hsph.harvard.edu/profile/miguel-hernan/)一书。它是我在面对最棘手的因果问题时的可靠伙伴。\n",
    "\n",
    "![img](./images/poetry.png)\n",
    "\n",
    "## 贡献\n",
    "《因果推断：献给求真敢为者》是一份关于因果推断的开源材料，属于科学统计领域。它仅基于 Python 使用免费软件，旨在实现经济与智力上的双重可及性。若您认为此书有价值并希望支持，请前往 [Patreon](https://www.patreon.com/causal_inference_for_the_brave_and_true)。若暂无法经济支持，您也可以通过修正拼写错误、建议修改或对不理解的内容提供反馈来帮助改进。只需访问书籍仓库并提交问题。最后，若您喜欢此内容，请分享给可能受益的人，并在 GitHub 上为其加星。"
   ]
  },
  {
   "cell_type": "code",
   "execution_count": null,
   "id": "dda57620-ccbf-495e-b6ca-bfb8f32d67ad",
   "metadata": {},
   "outputs": [],
   "source": []
  }
 ],
 "metadata": {
  "kernelspec": {
   "display_name": "Python 3",
   "language": "python",
   "name": "python3"
  },
  "language_info": {
   "codemirror_mode": {
    "name": "ipython",
    "version": 3
   },
   "file_extension": ".py",
   "mimetype": "text/x-python",
   "name": "python",
   "nbconvert_exporter": "python",
   "pygments_lexer": "ipython3",
   "version": "3.12.2"
  }
 },
 "nbformat": 4,
 "nbformat_minor": 5
}
